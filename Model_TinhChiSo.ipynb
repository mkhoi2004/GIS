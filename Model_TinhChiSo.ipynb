{
 "cells": [
  {
   "cell_type": "markdown",
   "id": "c5d295a5",
   "metadata": {},
   "source": [
    "Làm sạch dữ liệu"
   ]
  },
  {
   "cell_type": "code",
   "execution_count": 1,
   "id": "7b6cfd02",
   "metadata": {},
   "outputs": [],
   "source": [
    "import pandas as pd\n",
    "import numpy as np\n",
    "\n",
    "# Đọc dữ liệu\n",
    "df = pd.read_csv('GIS.DataAQI.csv')\n",
    "\n",
    "# Xử lý giá trị thiếu (N/A)\n",
    "df.replace('N/A', np.nan, inplace=True)\n",
    "\n",
    "# Chuyển các cột số về kiểu số\n",
    "numeric_cols = ['aqi', 'pm25', 'pm10', 'no2', 'co', 'o3', 'so2', \n",
    "                'humidity', 'temperature', 'wind', 'population', 'area']\n",
    "for col in numeric_cols:\n",
    "    df[col] = pd.to_numeric(df[col], errors='coerce')\n",
    "\n",
    "# Thêm cột mới để phân loại các vùng\n",
    "df['region'] = np.where(df['country'] == 'Vietnam', 'Vietnam', 'Denmark')\n",
    "\n",
    "# Xử lý ngày tháng\n",
    "df['update_time'] = pd.to_datetime(df['update_time'], errors='coerce')\n",
    "df['saved_at'] = pd.to_datetime(df['saved_at'], errors='coerce')"
   ]
  },
  {
   "cell_type": "markdown",
   "id": "330efa0f",
   "metadata": {},
   "source": [
    "Tạo các đặc trưng mới"
   ]
  },
  {
   "cell_type": "code",
   "execution_count": 2,
   "id": "a2044a1c",
   "metadata": {},
   "outputs": [],
   "source": [
    "# AQI to Health Risk (dựa trên tiêu chuẩn EPA)\n",
    "def aqi_to_risk(aqi):\n",
    "    if pd.isna(aqi) or aqi == '-':\n",
    "        return np.nan\n",
    "    aqi = float(aqi)\n",
    "    if aqi <= 50:\n",
    "        return 0  # Tốt (Good) - Xanh lá\n",
    "    elif aqi <= 100:\n",
    "        return 1  # Trung bình (Moderate) - Vàng\n",
    "    elif aqi <= 150:\n",
    "        return 2  # Không lành mạnh cho nhóm nhạy cảm (Unhealthy for Sensitive Groups) - Cam\n",
    "    elif aqi <= 200:\n",
    "        return 3  # Không lành mạnh (Unhealthy) - Đỏ\n",
    "    elif aqi <= 300:\n",
    "        return 4  # Rất không lành mạnh (Very Unhealthy) - Tím\n",
    "    else:\n",
    "        return 5  # Nguy hiểm (Hazardous) - Nâu\n",
    "\n",
    "# Áp dụng hàm trên cột AQI\n",
    "df['health_risk'] = df['aqi'].apply(aqi_to_risk)\n",
    "\n",
    "# Tạo các đặc trưng cho mật độ dân số\n",
    "df['population_density'] = df['population'] / df['area']\n",
    "\n",
    "# Tạo biến chỉ ra mức độ ô nhiễm của các thông số riêng biệt\n",
    "pm25_thresholds = [0, 12, 35.4, 55.4, 150.4, 250.4, 500.4]\n",
    "pm10_thresholds = [0, 54, 154, 254, 354, 424, 604]\n",
    "no2_thresholds = [0, 53, 100, 360, 649, 1249, 2049]\n",
    "so2_thresholds = [0, 35, 75, 185, 304, 604, 1004]\n",
    "o3_thresholds = [0, 54, 70, 85, 105, 200, 300]\n",
    "\n",
    "# Tạo hàm phân loại chung\n",
    "def categorize_pollutant(value, thresholds):\n",
    "    if pd.isna(value) or value == '-':\n",
    "        return np.nan\n",
    "    value = float(value)\n",
    "    for i, threshold in enumerate(thresholds[1:], 1):\n",
    "        if value < threshold:\n",
    "            return i-1\n",
    "    return len(thresholds) - 1\n",
    "\n",
    "# Áp dụng cho từng chất ô nhiễm\n",
    "df['pm25_level'] = df['pm25'].apply(lambda x: categorize_pollutant(x, pm25_thresholds))\n",
    "df['pm10_level'] = df['pm10'].apply(lambda x: categorize_pollutant(x, pm10_thresholds))\n",
    "df['no2_level'] = df['no2'].apply(lambda x: categorize_pollutant(x, no2_thresholds))\n",
    "df['so2_level'] = df['so2'].apply(lambda x: categorize_pollutant(x, so2_thresholds))\n",
    "df['o3_level'] = df['o3'].apply(lambda x: categorize_pollutant(x, o3_thresholds))"
   ]
  },
  {
   "cell_type": "markdown",
   "id": "2a3f08d1",
   "metadata": {},
   "source": [
    " Phân tích thống kê mô tả"
   ]
  },
  {
   "cell_type": "code",
   "execution_count": 3,
   "id": "7e9a14d8",
   "metadata": {},
   "outputs": [],
   "source": [
    "# Thống kê cơ bản theo quốc gia\n",
    "stats_by_country = df.groupby('country')[numeric_cols].mean()\n",
    "\n",
    "# Tính tỷ lệ các mức rủi ro sức khỏe theo quốc gia\n",
    "risk_distribution = df.groupby(['country', 'health_risk']).size().unstack()\n",
    "\n",
    "# Tìm thành phố có mức ô nhiễm cao nhất và thấp nhất\n",
    "worst_cities = df.sort_values('aqi', ascending=False).head(10)\n",
    "best_cities = df[df['aqi'] > 0].sort_values('aqi').head(10)"
   ]
  },
  {
   "cell_type": "markdown",
   "id": "0e26adfd",
   "metadata": {},
   "source": [
    "XÂY DỰNG MÔ HÌNH ĐÁNH GIÁ RỦI RO SỨC KHỎE\n",
    "\n",
    "Chuẩn bị dữ liệu cho mô hình"
   ]
  },
  {
   "cell_type": "code",
   "execution_count": 4,
   "id": "4c6cc187",
   "metadata": {},
   "outputs": [],
   "source": [
    "from sklearn.model_selection import train_test_split\n",
    "from sklearn.preprocessing import StandardScaler, OneHotEncoder\n",
    "from sklearn.compose import ColumnTransformer\n",
    "from sklearn.pipeline import Pipeline\n",
    "from sklearn.impute import SimpleImputer\n",
    "\n",
    "# Chọn các đặc trưng và biến mục tiêu\n",
    "features = ['pm25', 'pm10', 'no2', 'co', 'o3', 'so2', 'humidity', 'temperature', 'wind']\n",
    "X = df[features]\n",
    "\n",
    "# Biến mục tiêu: health_risk (đã tính dựa trên AQI)\n",
    "y = df['health_risk']\n",
    "\n",
    "# Loại bỏ các hàng không có giá trị mục tiêu\n",
    "valid_rows = y.notna()\n",
    "X = X[valid_rows]\n",
    "y = y[valid_rows]\n",
    "\n",
    "# Chia tập dữ liệu\n",
    "X_train, X_test, y_train, y_test = train_test_split(X, y, test_size=0.2, random_state=42)\n",
    "\n",
    "# Tiền xử lý dữ liệu\n",
    "numeric_transformer = Pipeline(steps=[\n",
    "    ('imputer', SimpleImputer(strategy='median')),\n",
    "    ('scaler', StandardScaler())\n",
    "])\n",
    "\n",
    "preprocessor = ColumnTransformer(\n",
    "    transformers=[\n",
    "        ('num', numeric_transformer, features)\n",
    "    ])\n",
    "\n",
    "# Pipeline dùng cho huấn luyện mô hình\n",
    "preprocessed_pipeline = Pipeline(steps=[\n",
    "    ('preprocessor', preprocessor)\n",
    "])\n",
    "\n",
    "# Áp dụng xử lý\n",
    "X_train_processed = preprocessed_pipeline.fit_transform(X_train)\n",
    "X_test_processed = preprocessed_pipeline.transform(X_test)"
   ]
  },
  {
   "cell_type": "markdown",
   "id": "efabbd89",
   "metadata": {},
   "source": [
    " Huấn luyện mô hình phân loại"
   ]
  },
  {
   "cell_type": "code",
   "execution_count": 5,
   "id": "d85be2ca",
   "metadata": {},
   "outputs": [
    {
     "name": "stdout",
     "output_type": "stream",
     "text": [
      "              precision    recall  f1-score   support\n",
      "\n",
      "         0.0       0.99      1.00      1.00       185\n",
      "         1.0       1.00      0.98      0.99        65\n",
      "         2.0       1.00      1.00      1.00        30\n",
      "         3.0       1.00      1.00      1.00         5\n",
      "\n",
      "    accuracy                           1.00       285\n",
      "   macro avg       1.00      1.00      1.00       285\n",
      "weighted avg       1.00      1.00      1.00       285\n",
      "\n"
     ]
    },
    {
     "data": {
      "text/plain": [
       "['preprocessor.pkl']"
      ]
     },
     "execution_count": 5,
     "metadata": {},
     "output_type": "execute_result"
    }
   ],
   "source": [
    "from sklearn.ensemble import RandomForestClassifier\n",
    "from sklearn.metrics import classification_report, confusion_matrix\n",
    "\n",
    "# Huấn luyện mô hình Random Forest\n",
    "model = RandomForestClassifier(n_estimators=100, random_state=42)\n",
    "model.fit(X_train_processed, y_train)\n",
    "\n",
    "# Đánh giá mô hình\n",
    "y_pred = model.predict(X_test_processed)\n",
    "print(classification_report(y_test, y_pred))\n",
    "\n",
    "# Lưu mô hình\n",
    "import joblib\n",
    "joblib.dump(model, 'health_risk_model.pkl')\n",
    "joblib.dump(preprocessed_pipeline, 'preprocessor.pkl')"
   ]
  },
  {
   "cell_type": "code",
   "execution_count": 6,
   "id": "c1ddb901",
   "metadata": {},
   "outputs": [],
   "source": [
    "from health_recommendations import get_health_recommendations, get_specific_group_recommendations\n",
    "def predict_health_risk(pm25, pm10, no2, co, o3, so2, humidity, temperature, wind):\n",
    "    # Tạo DataFrame với dữ liệu đầu vào\n",
    "    input_data = pd.DataFrame([[pm25, pm10, no2, co, o3, so2, humidity, temperature, wind]],\n",
    "                             columns=features)\n",
    "    \n",
    "    # Tiền xử lý\n",
    "    input_processed = preprocessed_pipeline.transform(input_data)\n",
    "    \n",
    "    # Dự đoán\n",
    "    risk_level = model.predict(input_processed)[0]\n",
    "    \n",
    "    # Xác định xác suất cho mỗi cấp độ rủi ro\n",
    "    risk_probs = model.predict_proba(input_processed)[0]\n",
    "    \n",
    "    return risk_level, risk_probs"
   ]
  }
 ],
 "metadata": {
  "kernelspec": {
   "display_name": "GIS1",
   "language": "python",
   "name": "python3"
  },
  "language_info": {
   "codemirror_mode": {
    "name": "ipython",
    "version": 3
   },
   "file_extension": ".py",
   "mimetype": "text/x-python",
   "name": "python",
   "nbconvert_exporter": "python",
   "pygments_lexer": "ipython3",
   "version": "3.12.9"
  }
 },
 "nbformat": 4,
 "nbformat_minor": 5
}
